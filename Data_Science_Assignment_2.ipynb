{
  "nbformat": 4,
  "nbformat_minor": 0,
  "metadata": {
    "colab": {
      "name": "Data Science Assignment #2.ipynb",
      "provenance": [],
      "collapsed_sections": []
    },
    "kernelspec": {
      "name": "python3",
      "display_name": "Python 3"
    },
    "language_info": {
      "name": "python"
    }
  },
  "cells": [
    {
      "cell_type": "markdown",
      "source": [
        "create a database with dataframe objects consits of 20 players having 2 categories bowlers n batsmens feaure runs and wickets.\n",
        "batsmen more than 1000 runs less tha 20 wickets\n",
        "bowlers more than 100 wickets less than 200 runs\n",
        "create a dataset or dataframe with this data n save this data in text file\n",
        "create a scatter plot for no of runs n no of wickets taken\n",
        "create a bar chat showing no of batsmen n no of bowlers in the dataset."
      ],
      "metadata": {
        "id": "ZNw4UUEZtZtS"
      }
    },
    {
      "cell_type": "code",
      "execution_count": null,
      "metadata": {
        "id": "EMkPhXh9gJlo"
      },
      "outputs": [],
      "source": [
        "df={\n",
        "    \"Player Name\":['P1','P2','P3','P4','P5','P6','P7','P8','P9','P10','P11','P12','P13','P14','P15','P16','P17','P18','P19','P20'],\n",
        "    \"Runs\":[1200,1300,1400,1500,1600,1700,1800,1900,2000,2100,100,110,120,130,140,150,160,170,180,190],\n",
        "    \"Wickets\":[5,6,7,8,9,10,11,12,13,14,21,22,23,24,25,26,27,28,29,30],\n",
        "    \"Category\":['Batsmen','Batsmen','Batsmen','Batsmen','Batsmen','Batsmen','Batsmen','Batsmen','Batsmen','Batsmen','Bolwer','Bolwer','Bolwer','Bolwer','Bolwer','Bolwer','Bolwer','Bolwer','Bolwer','Bolwer']\n",
        "}"
      ]
    },
    {
      "cell_type": "code",
      "source": [
        "import numpy as np\n",
        "import pandas as pd\n",
        "df=pd.DataFrame(df)\n",
        "df"
      ],
      "metadata": {
        "colab": {
          "base_uri": "https://localhost:8080/",
          "height": 676
        },
        "id": "mJhM63wGh0SV",
        "outputId": "eef2c38a-c4ac-4f4d-deb7-26632c14074c"
      },
      "execution_count": null,
      "outputs": [
        {
          "output_type": "execute_result",
          "data": {
            "text/plain": [
              "   Player Name  Runs  Wickets Category\n",
              "0           P1  1200        5  Batsmen\n",
              "1           P2  1300        6  Batsmen\n",
              "2           P3  1400        7  Batsmen\n",
              "3           P4  1500        8  Batsmen\n",
              "4           P5  1600        9  Batsmen\n",
              "5           P6  1700       10  Batsmen\n",
              "6           P7  1800       11  Batsmen\n",
              "7           P8  1900       12  Batsmen\n",
              "8           P9  2000       13  Batsmen\n",
              "9          P10  2100       14  Batsmen\n",
              "10         P11   100       21   Bolwer\n",
              "11         P12   110       22   Bolwer\n",
              "12         P13   120       23   Bolwer\n",
              "13         P14   130       24   Bolwer\n",
              "14         P15   140       25   Bolwer\n",
              "15         P16   150       26   Bolwer\n",
              "16         P17   160       27   Bolwer\n",
              "17         P18   170       28   Bolwer\n",
              "18         P19   180       29   Bolwer\n",
              "19         P20   190       30   Bolwer"
            ],
            "text/html": [
              "\n",
              "  <div id=\"df-329a5aec-4df6-4210-8c90-a5b203261341\">\n",
              "    <div class=\"colab-df-container\">\n",
              "      <div>\n",
              "<style scoped>\n",
              "    .dataframe tbody tr th:only-of-type {\n",
              "        vertical-align: middle;\n",
              "    }\n",
              "\n",
              "    .dataframe tbody tr th {\n",
              "        vertical-align: top;\n",
              "    }\n",
              "\n",
              "    .dataframe thead th {\n",
              "        text-align: right;\n",
              "    }\n",
              "</style>\n",
              "<table border=\"1\" class=\"dataframe\">\n",
              "  <thead>\n",
              "    <tr style=\"text-align: right;\">\n",
              "      <th></th>\n",
              "      <th>Player Name</th>\n",
              "      <th>Runs</th>\n",
              "      <th>Wickets</th>\n",
              "      <th>Category</th>\n",
              "    </tr>\n",
              "  </thead>\n",
              "  <tbody>\n",
              "    <tr>\n",
              "      <th>0</th>\n",
              "      <td>P1</td>\n",
              "      <td>1200</td>\n",
              "      <td>5</td>\n",
              "      <td>Batsmen</td>\n",
              "    </tr>\n",
              "    <tr>\n",
              "      <th>1</th>\n",
              "      <td>P2</td>\n",
              "      <td>1300</td>\n",
              "      <td>6</td>\n",
              "      <td>Batsmen</td>\n",
              "    </tr>\n",
              "    <tr>\n",
              "      <th>2</th>\n",
              "      <td>P3</td>\n",
              "      <td>1400</td>\n",
              "      <td>7</td>\n",
              "      <td>Batsmen</td>\n",
              "    </tr>\n",
              "    <tr>\n",
              "      <th>3</th>\n",
              "      <td>P4</td>\n",
              "      <td>1500</td>\n",
              "      <td>8</td>\n",
              "      <td>Batsmen</td>\n",
              "    </tr>\n",
              "    <tr>\n",
              "      <th>4</th>\n",
              "      <td>P5</td>\n",
              "      <td>1600</td>\n",
              "      <td>9</td>\n",
              "      <td>Batsmen</td>\n",
              "    </tr>\n",
              "    <tr>\n",
              "      <th>5</th>\n",
              "      <td>P6</td>\n",
              "      <td>1700</td>\n",
              "      <td>10</td>\n",
              "      <td>Batsmen</td>\n",
              "    </tr>\n",
              "    <tr>\n",
              "      <th>6</th>\n",
              "      <td>P7</td>\n",
              "      <td>1800</td>\n",
              "      <td>11</td>\n",
              "      <td>Batsmen</td>\n",
              "    </tr>\n",
              "    <tr>\n",
              "      <th>7</th>\n",
              "      <td>P8</td>\n",
              "      <td>1900</td>\n",
              "      <td>12</td>\n",
              "      <td>Batsmen</td>\n",
              "    </tr>\n",
              "    <tr>\n",
              "      <th>8</th>\n",
              "      <td>P9</td>\n",
              "      <td>2000</td>\n",
              "      <td>13</td>\n",
              "      <td>Batsmen</td>\n",
              "    </tr>\n",
              "    <tr>\n",
              "      <th>9</th>\n",
              "      <td>P10</td>\n",
              "      <td>2100</td>\n",
              "      <td>14</td>\n",
              "      <td>Batsmen</td>\n",
              "    </tr>\n",
              "    <tr>\n",
              "      <th>10</th>\n",
              "      <td>P11</td>\n",
              "      <td>100</td>\n",
              "      <td>21</td>\n",
              "      <td>Bolwer</td>\n",
              "    </tr>\n",
              "    <tr>\n",
              "      <th>11</th>\n",
              "      <td>P12</td>\n",
              "      <td>110</td>\n",
              "      <td>22</td>\n",
              "      <td>Bolwer</td>\n",
              "    </tr>\n",
              "    <tr>\n",
              "      <th>12</th>\n",
              "      <td>P13</td>\n",
              "      <td>120</td>\n",
              "      <td>23</td>\n",
              "      <td>Bolwer</td>\n",
              "    </tr>\n",
              "    <tr>\n",
              "      <th>13</th>\n",
              "      <td>P14</td>\n",
              "      <td>130</td>\n",
              "      <td>24</td>\n",
              "      <td>Bolwer</td>\n",
              "    </tr>\n",
              "    <tr>\n",
              "      <th>14</th>\n",
              "      <td>P15</td>\n",
              "      <td>140</td>\n",
              "      <td>25</td>\n",
              "      <td>Bolwer</td>\n",
              "    </tr>\n",
              "    <tr>\n",
              "      <th>15</th>\n",
              "      <td>P16</td>\n",
              "      <td>150</td>\n",
              "      <td>26</td>\n",
              "      <td>Bolwer</td>\n",
              "    </tr>\n",
              "    <tr>\n",
              "      <th>16</th>\n",
              "      <td>P17</td>\n",
              "      <td>160</td>\n",
              "      <td>27</td>\n",
              "      <td>Bolwer</td>\n",
              "    </tr>\n",
              "    <tr>\n",
              "      <th>17</th>\n",
              "      <td>P18</td>\n",
              "      <td>170</td>\n",
              "      <td>28</td>\n",
              "      <td>Bolwer</td>\n",
              "    </tr>\n",
              "    <tr>\n",
              "      <th>18</th>\n",
              "      <td>P19</td>\n",
              "      <td>180</td>\n",
              "      <td>29</td>\n",
              "      <td>Bolwer</td>\n",
              "    </tr>\n",
              "    <tr>\n",
              "      <th>19</th>\n",
              "      <td>P20</td>\n",
              "      <td>190</td>\n",
              "      <td>30</td>\n",
              "      <td>Bolwer</td>\n",
              "    </tr>\n",
              "  </tbody>\n",
              "</table>\n",
              "</div>\n",
              "      <button class=\"colab-df-convert\" onclick=\"convertToInteractive('df-329a5aec-4df6-4210-8c90-a5b203261341')\"\n",
              "              title=\"Convert this dataframe to an interactive table.\"\n",
              "              style=\"display:none;\">\n",
              "        \n",
              "  <svg xmlns=\"http://www.w3.org/2000/svg\" height=\"24px\"viewBox=\"0 0 24 24\"\n",
              "       width=\"24px\">\n",
              "    <path d=\"M0 0h24v24H0V0z\" fill=\"none\"/>\n",
              "    <path d=\"M18.56 5.44l.94 2.06.94-2.06 2.06-.94-2.06-.94-.94-2.06-.94 2.06-2.06.94zm-11 1L8.5 8.5l.94-2.06 2.06-.94-2.06-.94L8.5 2.5l-.94 2.06-2.06.94zm10 10l.94 2.06.94-2.06 2.06-.94-2.06-.94-.94-2.06-.94 2.06-2.06.94z\"/><path d=\"M17.41 7.96l-1.37-1.37c-.4-.4-.92-.59-1.43-.59-.52 0-1.04.2-1.43.59L10.3 9.45l-7.72 7.72c-.78.78-.78 2.05 0 2.83L4 21.41c.39.39.9.59 1.41.59.51 0 1.02-.2 1.41-.59l7.78-7.78 2.81-2.81c.8-.78.8-2.07 0-2.86zM5.41 20L4 18.59l7.72-7.72 1.47 1.35L5.41 20z\"/>\n",
              "  </svg>\n",
              "      </button>\n",
              "      \n",
              "  <style>\n",
              "    .colab-df-container {\n",
              "      display:flex;\n",
              "      flex-wrap:wrap;\n",
              "      gap: 12px;\n",
              "    }\n",
              "\n",
              "    .colab-df-convert {\n",
              "      background-color: #E8F0FE;\n",
              "      border: none;\n",
              "      border-radius: 50%;\n",
              "      cursor: pointer;\n",
              "      display: none;\n",
              "      fill: #1967D2;\n",
              "      height: 32px;\n",
              "      padding: 0 0 0 0;\n",
              "      width: 32px;\n",
              "    }\n",
              "\n",
              "    .colab-df-convert:hover {\n",
              "      background-color: #E2EBFA;\n",
              "      box-shadow: 0px 1px 2px rgba(60, 64, 67, 0.3), 0px 1px 3px 1px rgba(60, 64, 67, 0.15);\n",
              "      fill: #174EA6;\n",
              "    }\n",
              "\n",
              "    [theme=dark] .colab-df-convert {\n",
              "      background-color: #3B4455;\n",
              "      fill: #D2E3FC;\n",
              "    }\n",
              "\n",
              "    [theme=dark] .colab-df-convert:hover {\n",
              "      background-color: #434B5C;\n",
              "      box-shadow: 0px 1px 3px 1px rgba(0, 0, 0, 0.15);\n",
              "      filter: drop-shadow(0px 1px 2px rgba(0, 0, 0, 0.3));\n",
              "      fill: #FFFFFF;\n",
              "    }\n",
              "  </style>\n",
              "\n",
              "      <script>\n",
              "        const buttonEl =\n",
              "          document.querySelector('#df-329a5aec-4df6-4210-8c90-a5b203261341 button.colab-df-convert');\n",
              "        buttonEl.style.display =\n",
              "          google.colab.kernel.accessAllowed ? 'block' : 'none';\n",
              "\n",
              "        async function convertToInteractive(key) {\n",
              "          const element = document.querySelector('#df-329a5aec-4df6-4210-8c90-a5b203261341');\n",
              "          const dataTable =\n",
              "            await google.colab.kernel.invokeFunction('convertToInteractive',\n",
              "                                                     [key], {});\n",
              "          if (!dataTable) return;\n",
              "\n",
              "          const docLinkHtml = 'Like what you see? Visit the ' +\n",
              "            '<a target=\"_blank\" href=https://colab.research.google.com/notebooks/data_table.ipynb>data table notebook</a>'\n",
              "            + ' to learn more about interactive tables.';\n",
              "          element.innerHTML = '';\n",
              "          dataTable['output_type'] = 'display_data';\n",
              "          await google.colab.output.renderOutput(dataTable, element);\n",
              "          const docLink = document.createElement('div');\n",
              "          docLink.innerHTML = docLinkHtml;\n",
              "          element.appendChild(docLink);\n",
              "        }\n",
              "      </script>\n",
              "    </div>\n",
              "  </div>\n",
              "  "
            ]
          },
          "metadata": {},
          "execution_count": 6
        }
      ]
    },
    {
      "cell_type": "code",
      "source": [
        "import matplotlib.pyplot as plt\n",
        "plt.title('Scatter Plot for Dataset')\n",
        "plt.scatter(x=df['Category'],y=df['Wickets'])\n",
        "plt.xlabel('Category')\n",
        "plt.ylabel('Wickets')\n",
        "plt.show()"
      ],
      "metadata": {
        "id": "i1hTYlr-iBIt",
        "colab": {
          "base_uri": "https://localhost:8080/",
          "height": 295
        },
        "outputId": "c6c9f8e5-5cf1-4292-f809-f13445248a05"
      },
      "execution_count": null,
      "outputs": [
        {
          "output_type": "display_data",
          "data": {
            "text/plain": [
              "<Figure size 432x288 with 1 Axes>"
            ],
            "image/png": "[encoded data removed]"
          },
          "metadata": {
            "needs_background": "light"
          }
        }
      ]
    },
    {
      "cell_type": "code",
      "source": [
        "plt.bar(df['Category'].unique(),df['Category'].value_counts(),color='skyblue',width=0.5)\n",
        "plt.show()"
      ],
      "metadata": {
        "colab": {
          "base_uri": "https://localhost:8080/",
          "height": 265
        },
        "id": "CXK6PWZqlvRD",
        "outputId": "7d2d0c9a-97bf-4e5e-ac47-5af549774dff"
      },
      "execution_count": null,
      "outputs": [
        {
          "output_type": "display_data",
          "data": {
            "text/plain": [
              "<Figure size 432x288 with 1 Axes>"
            ],
            "image/png": "[encoded data removed]"
          },
          "metadata": {
            "needs_background": "light"
          }
        }
      ]
    },
    {
      "cell_type": "code",
      "source": [
        ""
      ],
      "metadata": {
        "id": "Ibl-kU1om882"
      },
      "execution_count": null,
      "outputs": []
    }
  ]
}